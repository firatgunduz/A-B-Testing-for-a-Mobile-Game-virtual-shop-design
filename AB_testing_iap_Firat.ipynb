{
 "cells": [
  {
   "cell_type": "code",
   "execution_count": 3,
   "metadata": {},
   "outputs": [
    {
     "name": "stderr",
     "output_type": "stream",
     "text": [
      "Installing package into 'C:/Users/Dell/Documents/R/win-library/3.6'\n",
      "(as 'lib' is unspecified)\n",
      "Warning message:\n",
      "\"package 'pwr' is in use and will not be installed\""
     ]
    },
    {
     "data": {
      "text/plain": [
       "\n",
       "     Two-sample t test power calculation \n",
       "\n",
       "              n = 156978.2\n",
       "              d = 0.01\n",
       "      sig.level = 0.05\n",
       "          power = 0.8\n",
       "    alternative = two.sided\n",
       "\n",
       "NOTE: n is number in *each* group\n"
      ]
     },
     "metadata": {},
     "output_type": "display_data"
    }
   ],
   "source": [
    "### Experimental Design:\n",
    "\n",
    "# In the beginning of the AB test, we define a hypothesis, which states what difference we expect with our test.(effect size)\n",
    "# Our pre-experiment ARPDAU is $0.05, so that it is our baseline value.\n",
    "# We are expecting around a + $0.01 difference brought by our new design, this is our effect size. \n",
    "\n",
    "# We perform a Power Analysis in order to determine a \"sample size\" before the experiment.\n",
    "# In a Power Analysis, we would need:\n",
    "# Baseline value(ARPDAU), effect size, proportion of data(~0.50), alpha(significance level)=0.05, power=0.80\n",
    "# power: is the probability to reject the null hypothesis.\n",
    "\n",
    "# We use a t-test for Power Analysis:\n",
    "\n",
    "install.packages(\"pwr\")\n",
    "library(pwr)\n",
    "pwr.t.test(power=0.8, sig.level=0.05, d=0.01)\n",
    "\n",
    "# Result: sample size > 156,978 for each group."
   ]
  },
  {
   "cell_type": "code",
   "execution_count": 6,
   "metadata": {},
   "outputs": [
    {
     "name": "stderr",
     "output_type": "stream",
     "text": [
      "Parsed with column specification:\n",
      "cols(\n",
      "  dateActivity = col_date(format = \"\"),\n",
      "  abTestGroup = col_character(),\n",
      "  platform = col_character(),\n",
      "  countryCode = col_character(),\n",
      "  userId = col_character()\n",
      ")\n"
     ]
    },
    {
     "data": {
      "text/html": [
       "<table>\n",
       "<thead><tr><th scope=col>dateActivity</th><th scope=col>abTestGroup</th><th scope=col>platform</th><th scope=col>countryCode</th><th scope=col>userId</th></tr></thead>\n",
       "<tbody>\n",
       "\t<tr><td>2018-12-12     </td><td>group_control  </td><td>iOS            </td><td>US             </td><td>4e3a15wton1nlyy</td></tr>\n",
       "\t<tr><td>2018-12-11     </td><td>group_control  </td><td>Android        </td><td>US             </td><td>z8tolnt91mfcrp6</td></tr>\n",
       "\t<tr><td>2018-12-11     </td><td>group_control  </td><td>Android        </td><td>RO             </td><td>mxhd5t4zuudj8wb</td></tr>\n",
       "\t<tr><td>2018-12-13     </td><td>group_test     </td><td>iOS            </td><td>SE             </td><td>j5o1mibvw5wjl46</td></tr>\n",
       "\t<tr><td>2018-12-08     </td><td>group_test     </td><td>Android        </td><td>IL             </td><td>mu9bdbizv82yfj5</td></tr>\n",
       "\t<tr><td>2018-12-08     </td><td>group_control  </td><td>Android        </td><td>PK             </td><td>thauz32vnbgh5se</td></tr>\n",
       "</tbody>\n",
       "</table>\n"
      ],
      "text/latex": [
       "\\begin{tabular}{r|lllll}\n",
       " dateActivity & abTestGroup & platform & countryCode & userId\\\\\n",
       "\\hline\n",
       "\t 2018-12-12      & group\\_control & iOS             & US              & 4e3a15wton1nlyy\\\\\n",
       "\t 2018-12-11      & group\\_control & Android         & US              & z8tolnt91mfcrp6\\\\\n",
       "\t 2018-12-11      & group\\_control & Android         & RO              & mxhd5t4zuudj8wb\\\\\n",
       "\t 2018-12-13      & group\\_test    & iOS             & SE              & j5o1mibvw5wjl46\\\\\n",
       "\t 2018-12-08      & group\\_test    & Android         & IL              & mu9bdbizv82yfj5\\\\\n",
       "\t 2018-12-08      & group\\_control & Android         & PK              & thauz32vnbgh5se\\\\\n",
       "\\end{tabular}\n"
      ],
      "text/markdown": [
       "\n",
       "| dateActivity | abTestGroup | platform | countryCode | userId |\n",
       "|---|---|---|---|---|\n",
       "| 2018-12-12      | group_control   | iOS             | US              | 4e3a15wton1nlyy |\n",
       "| 2018-12-11      | group_control   | Android         | US              | z8tolnt91mfcrp6 |\n",
       "| 2018-12-11      | group_control   | Android         | RO              | mxhd5t4zuudj8wb |\n",
       "| 2018-12-13      | group_test      | iOS             | SE              | j5o1mibvw5wjl46 |\n",
       "| 2018-12-08      | group_test      | Android         | IL              | mu9bdbizv82yfj5 |\n",
       "| 2018-12-08      | group_control   | Android         | PK              | thauz32vnbgh5se |\n",
       "\n"
      ],
      "text/plain": [
       "  dateActivity abTestGroup   platform countryCode userId         \n",
       "1 2018-12-12   group_control iOS      US          4e3a15wton1nlyy\n",
       "2 2018-12-11   group_control Android  US          z8tolnt91mfcrp6\n",
       "3 2018-12-11   group_control Android  RO          mxhd5t4zuudj8wb\n",
       "4 2018-12-13   group_test    iOS      SE          j5o1mibvw5wjl46\n",
       "5 2018-12-08   group_test    Android  IL          mu9bdbizv82yfj5\n",
       "6 2018-12-08   group_control Android  PK          thauz32vnbgh5se"
      ]
     },
     "metadata": {},
     "output_type": "display_data"
    },
    {
     "name": "stderr",
     "output_type": "stream",
     "text": [
      "Parsed with column specification:\n",
      "cols(\n",
      "  dateActivity = col_date(format = \"\"),\n",
      "  productId = col_character(),\n",
      "  cost = col_double(),\n",
      "  userId = col_character()\n",
      ")\n"
     ]
    },
    {
     "data": {
      "text/html": [
       "<table>\n",
       "<thead><tr><th scope=col>dateActivity</th><th scope=col>productId</th><th scope=col>cost</th><th scope=col>userId</th></tr></thead>\n",
       "<tbody>\n",
       "\t<tr><td>2018-12-13     </td><td>specialpack1_0 </td><td>0.398          </td><td>945e93rhoaf2mwh</td></tr>\n",
       "\t<tr><td>2018-12-08     </td><td>specialpack1_0 </td><td>0.398          </td><td>ud0htw81k1whtvd</td></tr>\n",
       "\t<tr><td>2018-12-12     </td><td>poolcash005    </td><td>9.998          </td><td>efyc6a2edesfyno</td></tr>\n",
       "\t<tr><td>2018-12-10     </td><td>specialpack    </td><td>0.198          </td><td>988ade0dpe0hij1</td></tr>\n",
       "\t<tr><td>2018-12-09     </td><td>coinpack001    </td><td>0.398          </td><td>iu0su7ko0nzukmp</td></tr>\n",
       "\t<tr><td>2018-12-08     </td><td>specialpack1_0 </td><td>0.398          </td><td>ik337qn9jyxdram</td></tr>\n",
       "</tbody>\n",
       "</table>\n"
      ],
      "text/latex": [
       "\\begin{tabular}{r|llll}\n",
       " dateActivity & productId & cost & userId\\\\\n",
       "\\hline\n",
       "\t 2018-12-13       & specialpack1\\_0 & 0.398            & 945e93rhoaf2mwh \\\\\n",
       "\t 2018-12-08       & specialpack1\\_0 & 0.398            & ud0htw81k1whtvd \\\\\n",
       "\t 2018-12-12      & poolcash005     & 9.998           & efyc6a2edesfyno\\\\\n",
       "\t 2018-12-10      & specialpack     & 0.198           & 988ade0dpe0hij1\\\\\n",
       "\t 2018-12-09      & coinpack001     & 0.398           & iu0su7ko0nzukmp\\\\\n",
       "\t 2018-12-08       & specialpack1\\_0 & 0.398            & ik337qn9jyxdram \\\\\n",
       "\\end{tabular}\n"
      ],
      "text/markdown": [
       "\n",
       "| dateActivity | productId | cost | userId |\n",
       "|---|---|---|---|\n",
       "| 2018-12-13      | specialpack1_0  | 0.398           | 945e93rhoaf2mwh |\n",
       "| 2018-12-08      | specialpack1_0  | 0.398           | ud0htw81k1whtvd |\n",
       "| 2018-12-12      | poolcash005     | 9.998           | efyc6a2edesfyno |\n",
       "| 2018-12-10      | specialpack     | 0.198           | 988ade0dpe0hij1 |\n",
       "| 2018-12-09      | coinpack001     | 0.398           | iu0su7ko0nzukmp |\n",
       "| 2018-12-08      | specialpack1_0  | 0.398           | ik337qn9jyxdram |\n",
       "\n"
      ],
      "text/plain": [
       "  dateActivity productId      cost  userId         \n",
       "1 2018-12-13   specialpack1_0 0.398 945e93rhoaf2mwh\n",
       "2 2018-12-08   specialpack1_0 0.398 ud0htw81k1whtvd\n",
       "3 2018-12-12   poolcash005    9.998 efyc6a2edesfyno\n",
       "4 2018-12-10   specialpack    0.198 988ade0dpe0hij1\n",
       "5 2018-12-09   coinpack001    0.398 iu0su7ko0nzukmp\n",
       "6 2018-12-08   specialpack1_0 0.398 ik337qn9jyxdram"
      ]
     },
     "metadata": {},
     "output_type": "display_data"
    }
   ],
   "source": [
    "# Importing the datasets and observing the relationships.\n",
    "\n",
    "library(readr)\n",
    "data_activity <- read_csv(\"C:/Users/Dell/Desktop/Game Analytics/data_daily_activity.csv\")\n",
    "head(data_activity)\n",
    "data_iap <- read_csv(\"C:/Users/Dell/Desktop/Game Analytics/data_in_app_purchases.csv\")\n",
    "head(data_iap)"
   ]
  },
  {
   "cell_type": "code",
   "execution_count": 7,
   "metadata": {},
   "outputs": [
    {
     "name": "stderr",
     "output_type": "stream",
     "text": [
      "Warning message:\n",
      "\"package 'tidyverse' was built under R version 3.6.3\"-- Attaching packages --------------------------------------- tidyverse 1.3.0 --\n",
      "v ggplot2 3.3.0     v dplyr   0.8.5\n",
      "v tibble  2.1.3     v stringr 1.4.0\n",
      "v tidyr   1.0.2     v forcats 0.5.0\n",
      "v purrr   0.3.3     \n",
      "Warning message:\n",
      "\"package 'tidyr' was built under R version 3.6.3\"Warning message:\n",
      "\"package 'purrr' was built under R version 3.6.3\"Warning message:\n",
      "\"package 'dplyr' was built under R version 3.6.3\"Warning message:\n",
      "\"package 'forcats' was built under R version 3.6.3\"-- Conflicts ------------------------------------------ tidyverse_conflicts() --\n",
      "x dplyr::filter() masks stats::filter()\n",
      "x dplyr::lag()    masks stats::lag()\n"
     ]
    },
    {
     "name": "stdout",
     "output_type": "stream",
     "text": [
      "Classes 'spec_tbl_df', 'tbl_df', 'tbl' and 'data.frame':\t522685 obs. of  7 variables:\n",
      " $ dateActivity: Date, format: \"2018-12-12\" \"2018-12-11\" ...\n",
      " $ abTestGroup : chr  \"group_control\" \"group_control\" \"group_control\" \"group_test\" ...\n",
      " $ platform    : chr  \"iOS\" \"Android\" \"Android\" \"iOS\" ...\n",
      " $ countryCode : chr  \"US\" \"US\" \"RO\" \"SE\" ...\n",
      " $ userId      : chr  \"4e3a15wton1nlyy\" \"z8tolnt91mfcrp6\" \"mxhd5t4zuudj8wb\" \"j5o1mibvw5wjl46\" ...\n",
      " $ productId   : chr  NA NA NA NA ...\n",
      " $ cost        : num  NA NA NA NA NA 0.798 NA NA NA 0.798 ...\n"
     ]
    },
    {
     "data": {
      "text/html": [
       "484229"
      ],
      "text/latex": [
       "484229"
      ],
      "text/markdown": [
       "484229"
      ],
      "text/plain": [
       "[1] 484229"
      ]
     },
     "metadata": {},
     "output_type": "display_data"
    }
   ],
   "source": [
    "# Joining the 2 tables\n",
    "# Since our test&control group classification is in the data_activity table, it becomes the \"left\" table.\n",
    "# There are 2 keys to join: dateActivity and userId\n",
    "\n",
    "library(tidyverse)\n",
    "data_joined <- data_activity %>% \n",
    "  left_join(data_iap, by=c(\"dateActivity\",\"userId\"))\n",
    "str(data_joined)\n",
    "sum(is.na(data_joined$cost))\n",
    "\n",
    "### 484K of 522K values of \"cost\" column are NA ! "
   ]
  },
  {
   "cell_type": "code",
   "execution_count": 8,
   "metadata": {},
   "outputs": [
    {
     "data": {
      "text/plain": [
       "  dateActivity        abTestGroup          platform         countryCode       \n",
       " Min.   :2018-12-07   Length:522685      Length:522685      Length:522685     \n",
       " 1st Qu.:2018-12-08   Class :character   Class :character   Class :character  \n",
       " Median :2018-12-10   Mode  :character   Mode  :character   Mode  :character  \n",
       " Mean   :2018-12-10                                                           \n",
       " 3rd Qu.:2018-12-12                                                           \n",
       " Max.   :2018-12-13                                                           \n",
       "    userId           productId              cost         \n",
       " Length:522685      Length:522685      Min.   : 0.00000  \n",
       " Class :character   Class :character   1st Qu.: 0.00000  \n",
       " Mode  :character   Mode  :character   Median : 0.00000  \n",
       "                                       Mean   : 0.05673  \n",
       "                                       3rd Qu.: 0.00000  \n",
       "                                       Max.   :19.99800  "
      ]
     },
     "metadata": {},
     "output_type": "display_data"
    }
   ],
   "source": [
    "# Solution for NA values: We will replace NA values with zero for the numeric \"cost\" column.\n",
    "\n",
    "data_clean <- data_joined %>% replace_na(list(cost=0))\n",
    "summary(data_clean)\n",
    "\n",
    "### Mean of all experimental data is $ 0.05"
   ]
  },
  {
   "cell_type": "code",
   "execution_count": 9,
   "metadata": {},
   "outputs": [
    {
     "name": "stderr",
     "output_type": "stream",
     "text": [
      "Warning message:\n",
      "\"package 'lubridate' was built under R version 3.6.3\"\n",
      "Attaching package: 'lubridate'\n",
      "\n",
      "The following object is masked from 'package:base':\n",
      "\n",
      "    date\n",
      "\n"
     ]
    },
    {
     "data": {
      "image/png": "[encoded data removed]",
      "text/plain": [
       "plot without title"
      ]
     },
     "metadata": {},
     "output_type": "display_data"
    },
    {
     "data": {
      "image/png": "[encoded data removed]",
      "text/plain": [
       "plot without title"
      ]
     },
     "metadata": {},
     "output_type": "display_data"
    }
   ],
   "source": [
    "# Visualization with point and density plots\n",
    "# Process and visualization in the same pipeline\n",
    "\n",
    "library(ggplot2)\n",
    "library(lubridate)\n",
    "data_clean %>% group_by(dateActivity,abTestGroup,platform) %>%\n",
    "   summarize(revenue=sum(cost)) %>% \n",
    "   ggplot(aes(x=wday(dateActivity),y=revenue)) + \n",
    "          geom_point() + facet_wrap(~ abTestGroup)\n",
    "\n",
    "data_clean %>% group_by(dateActivity,abTestGroup,platform) %>%\n",
    "   summarize(revenue=sum(cost)) %>% \n",
    "   ggplot(aes(x=revenue)) + \n",
    "          geom_density() + facet_wrap(~ abTestGroup)\n"
   ]
  },
  {
   "cell_type": "code",
   "execution_count": 10,
   "metadata": {},
   "outputs": [
    {
     "data": {
      "text/html": [
       "<table>\n",
       "<thead><tr><th scope=col>dateActivity</th><th scope=col>abTestGroup</th><th scope=col>revenue</th><th scope=col>daily_users</th><th scope=col>rdau</th></tr></thead>\n",
       "<tbody>\n",
       "\t<tr><td>2018-12-07   </td><td>group_control</td><td>2095.388     </td><td>32255        </td><td>0.06496320   </td></tr>\n",
       "\t<tr><td>2018-12-07   </td><td>group_test   </td><td>1906.984     </td><td>32095        </td><td>0.05941686   </td></tr>\n",
       "\t<tr><td>2018-12-08   </td><td>group_control</td><td>2065.312     </td><td>34842        </td><td>0.05927651   </td></tr>\n",
       "\t<tr><td>2018-12-08   </td><td>group_test   </td><td>2132.654     </td><td>35176        </td><td>0.06062810   </td></tr>\n",
       "\t<tr><td>2018-12-09   </td><td>group_control</td><td>2102.670     </td><td>36504        </td><td>0.05760108   </td></tr>\n",
       "\t<tr><td>2018-12-09   </td><td>group_test   </td><td>1888.720     </td><td>36640        </td><td>0.05154803   </td></tr>\n",
       "</tbody>\n",
       "</table>\n"
      ],
      "text/latex": [
       "\\begin{tabular}{r|lllll}\n",
       " dateActivity & abTestGroup & revenue & daily\\_users & rdau\\\\\n",
       "\\hline\n",
       "\t 2018-12-07      & group\\_control & 2095.388        & 32255           & 0.06496320     \\\\\n",
       "\t 2018-12-07      & group\\_test    & 1906.984        & 32095           & 0.05941686     \\\\\n",
       "\t 2018-12-08      & group\\_control & 2065.312        & 34842           & 0.05927651     \\\\\n",
       "\t 2018-12-08      & group\\_test    & 2132.654        & 35176           & 0.06062810     \\\\\n",
       "\t 2018-12-09      & group\\_control & 2102.670        & 36504           & 0.05760108     \\\\\n",
       "\t 2018-12-09      & group\\_test    & 1888.720        & 36640           & 0.05154803     \\\\\n",
       "\\end{tabular}\n"
      ],
      "text/markdown": [
       "\n",
       "| dateActivity | abTestGroup | revenue | daily_users | rdau |\n",
       "|---|---|---|---|---|\n",
       "| 2018-12-07    | group_control | 2095.388      | 32255         | 0.06496320    |\n",
       "| 2018-12-07    | group_test    | 1906.984      | 32095         | 0.05941686    |\n",
       "| 2018-12-08    | group_control | 2065.312      | 34842         | 0.05927651    |\n",
       "| 2018-12-08    | group_test    | 2132.654      | 35176         | 0.06062810    |\n",
       "| 2018-12-09    | group_control | 2102.670      | 36504         | 0.05760108    |\n",
       "| 2018-12-09    | group_test    | 1888.720      | 36640         | 0.05154803    |\n",
       "\n"
      ],
      "text/plain": [
       "  dateActivity abTestGroup   revenue  daily_users rdau      \n",
       "1 2018-12-07   group_control 2095.388 32255       0.06496320\n",
       "2 2018-12-07   group_test    1906.984 32095       0.05941686\n",
       "3 2018-12-08   group_control 2065.312 34842       0.05927651\n",
       "4 2018-12-08   group_test    2132.654 35176       0.06062810\n",
       "5 2018-12-09   group_control 2102.670 36504       0.05760108\n",
       "6 2018-12-09   group_test    1888.720 36640       0.05154803"
      ]
     },
     "metadata": {},
     "output_type": "display_data"
    },
    {
     "data": {
      "text/html": [
       "<table>\n",
       "<thead><tr><th scope=col>abTestGroup</th><th scope=col>ARPDAU</th></tr></thead>\n",
       "<tbody>\n",
       "\t<tr><td>group_control</td><td>0.05990093   </td></tr>\n",
       "\t<tr><td>group_test   </td><td>0.05647726   </td></tr>\n",
       "</tbody>\n",
       "</table>\n"
      ],
      "text/latex": [
       "\\begin{tabular}{r|ll}\n",
       " abTestGroup & ARPDAU\\\\\n",
       "\\hline\n",
       "\t group\\_control & 0.05990093     \\\\\n",
       "\t group\\_test    & 0.05647726     \\\\\n",
       "\\end{tabular}\n"
      ],
      "text/markdown": [
       "\n",
       "| abTestGroup | ARPDAU |\n",
       "|---|---|\n",
       "| group_control | 0.05990093    |\n",
       "| group_test    | 0.05647726    |\n",
       "\n"
      ],
      "text/plain": [
       "  abTestGroup   ARPDAU    \n",
       "1 group_control 0.05990093\n",
       "2 group_test    0.05647726"
      ]
     },
     "metadata": {},
     "output_type": "display_data"
    }
   ],
   "source": [
    "# Transforming data for the t-test, calculating ARPDAU for both conditional groups.\n",
    "\n",
    "ab_test_results <- data_clean %>%\n",
    "  group_by(dateActivity,abTestGroup) %>%\n",
    "  summarize(revenue=sum(cost),daily_users=n_distinct(userId),rdau=sum(cost)/n_distinct(userId))\n",
    "head(ab_test_results)\n",
    "ab_test_results %>% group_by(abTestGroup) %>%\n",
    "  summarize(ARPDAU=mean(rdau))\n",
    "\n",
    "# ARPDAU for control group ~ 0.059\n",
    "# ARPDAU for test group ~ 0.056"
   ]
  },
  {
   "cell_type": "code",
   "execution_count": 11,
   "metadata": {},
   "outputs": [
    {
     "data": {
      "text/plain": [
       "\n",
       "\tWelch Two Sample t-test\n",
       "\n",
       "data:  rdau by abTestGroup\n",
       "t = 2.2117, df = 11.585, p-value = 0.04789\n",
       "alternative hypothesis: true difference in means is not equal to 0\n",
       "95 percent confidence interval:\n",
       " 3.752617e-05 6.809823e-03\n",
       "sample estimates:\n",
       "mean in group group_control    mean in group group_test \n",
       "                 0.05990093                  0.05647726 \n"
      ]
     },
     "metadata": {},
     "output_type": "display_data"
    }
   ],
   "source": [
    "### Statistical Signifance Test:\n",
    "\n",
    "# We use a t-test since we have a continious outcome as revenue.\n",
    "# Revenue per daily active user is explained by our condition.\n",
    "\n",
    "library(stats)\n",
    "stat_significance <- t.test(rdau ~ abTestGroup,\n",
    "                         data = ab_test_results)\n",
    "stat_significance"
   ]
  },
  {
   "cell_type": "code",
   "execution_count": 12,
   "metadata": {},
   "outputs": [],
   "source": [
    "### Result: ###\n",
    "# Our new layout is not as successful as we expected.\n",
    "# p-value = 0.04789 -> Our test is statistically significant.\n",
    "# We can say that, there is strong evidence, that this new layout does not help increasing purchases on our shop.\n"
   ]
  },
  {
   "cell_type": "code",
   "execution_count": 13,
   "metadata": {},
   "outputs": [
    {
     "data": {
      "text/html": [
       "<table>\n",
       "<thead><tr><th scope=col>abTestGroup</th><th scope=col>conversion</th></tr></thead>\n",
       "<tbody>\n",
       "\t<tr><td>group_control</td><td>0.07660468   </td></tr>\n",
       "\t<tr><td>group_test   </td><td>0.07054172   </td></tr>\n",
       "</tbody>\n",
       "</table>\n"
      ],
      "text/latex": [
       "\\begin{tabular}{r|ll}\n",
       " abTestGroup & conversion\\\\\n",
       "\\hline\n",
       "\t group\\_control & 0.07660468     \\\\\n",
       "\t group\\_test    & 0.07054172     \\\\\n",
       "\\end{tabular}\n"
      ],
      "text/markdown": [
       "\n",
       "| abTestGroup | conversion |\n",
       "|---|---|\n",
       "| group_control | 0.07660468    |\n",
       "| group_test    | 0.07054172    |\n",
       "\n"
      ],
      "text/plain": [
       "  abTestGroup   conversion\n",
       "1 group_control 0.07660468\n",
       "2 group_test    0.07054172"
      ]
     },
     "metadata": {},
     "output_type": "display_data"
    }
   ],
   "source": [
    "### Check-points:\n",
    "\n",
    "# How was the basic conversions? Different perspective for user activity?\n",
    "\n",
    "data_clean %>% mutate(conv=case_when(cost==0 ~ 0,\n",
    "                              cost>0 ~ 1)) %>%\n",
    "  group_by(abTestGroup) %>%\n",
    "  summarize(conversion=mean(conv))\n",
    "\n",
    "# Control group seems even better in purchasing(or not) conversions."
   ]
  },
  {
   "cell_type": "code",
   "execution_count": 14,
   "metadata": {},
   "outputs": [
    {
     "data": {
      "text/html": [
       "<table>\n",
       "<thead><tr><th scope=col>platform</th><th scope=col>num_users</th><th scope=col>revenue</th><th scope=col>user_perc</th><th scope=col>revenue_perc</th></tr></thead>\n",
       "<tbody>\n",
       "\t<tr><td>Android  </td><td>150506   </td><td>18225.76 </td><td>0.7617664</td><td>0.6146742</td></tr>\n",
       "\t<tr><td>iOS      </td><td> 47069   </td><td>11425.33 </td><td>0.2382336</td><td>0.3853258</td></tr>\n",
       "</tbody>\n",
       "</table>\n"
      ],
      "text/latex": [
       "\\begin{tabular}{r|lllll}\n",
       " platform & num\\_users & revenue & user\\_perc & revenue\\_perc\\\\\n",
       "\\hline\n",
       "\t Android   & 150506    & 18225.76  & 0.7617664 & 0.6146742\\\\\n",
       "\t iOS       &  47069    & 11425.33  & 0.2382336 & 0.3853258\\\\\n",
       "\\end{tabular}\n"
      ],
      "text/markdown": [
       "\n",
       "| platform | num_users | revenue | user_perc | revenue_perc |\n",
       "|---|---|---|---|---|\n",
       "| Android   | 150506    | 18225.76  | 0.7617664 | 0.6146742 |\n",
       "| iOS       |  47069    | 11425.33  | 0.2382336 | 0.3853258 |\n",
       "\n"
      ],
      "text/plain": [
       "  platform num_users revenue  user_perc revenue_perc\n",
       "1 Android  150506    18225.76 0.7617664 0.6146742   \n",
       "2 iOS       47069    11425.33 0.2382336 0.3853258   "
      ]
     },
     "metadata": {},
     "output_type": "display_data"
    },
    {
     "data": {
      "image/png": "[encoded data removed]",
      "text/plain": [
       "plot without title"
      ]
     },
     "metadata": {},
     "output_type": "display_data"
    }
   ],
   "source": [
    "# How was the user activity distribution by platform?\n",
    "data_clean %>% group_by(platform) %>% summarize(num_users=n_distinct(userId), revenue=sum(cost)) %>%\n",
    "mutate(user_perc=num_users/sum(num_users), revenue_perc=revenue/sum(revenue))\n",
    "\n",
    "data_clean %>% group_by(dateActivity,abTestGroup,platform) %>%\n",
    "   summarize(revenue=sum(cost)) %>% \n",
    "   ggplot(aes(x=wday(dateActivity),y=revenue)) + \n",
    "          geom_point() + facet_wrap(~ platform)\n",
    "\n",
    "# It seems that we are way more strong in Android user base than we are in IOS.\n",
    "# Anroid: While our unique user percentage was 76% , it brings a smaller value of 61% of our revenue.\n",
    "# IOS: While our unique user percentage was 23% , it brings a better 38% of our revenue.\n",
    "\n",
    "# Not surprisingly our IOS user base is more \"payable\", just like the industry averages.\n",
    "# Therefore, we can focus on even better user acquisition on IOS platform, optimizing the market based costs and other facts."
   ]
  },
  {
   "cell_type": "code",
   "execution_count": 15,
   "metadata": {},
   "outputs": [
    {
     "data": {
      "text/html": [
       "29651.088"
      ],
      "text/latex": [
       "29651.088"
      ],
      "text/markdown": [
       "29651.088"
      ],
      "text/plain": [
       "[1] 29651.09"
      ]
     },
     "metadata": {},
     "output_type": "display_data"
    },
    {
     "data": {
      "text/html": [
       "<table>\n",
       "<thead><tr><th scope=col>countryCode</th><th scope=col>revenue</th><th scope=col>cumsum</th><th scope=col>cumsum_perc</th></tr></thead>\n",
       "<tbody>\n",
       "\t<tr><td>US       </td><td>11342.418</td><td>11342.42 </td><td>0.3825307</td></tr>\n",
       "\t<tr><td>GB       </td><td> 3232.084</td><td>14574.50 </td><td>0.4915349</td></tr>\n",
       "\t<tr><td>IN       </td><td> 1670.990</td><td>16245.49 </td><td>0.5478902</td></tr>\n",
       "\t<tr><td>BR       </td><td> 1325.352</td><td>17570.84 </td><td>0.5925886</td></tr>\n",
       "\t<tr><td>ID       </td><td>  948.166</td><td>18519.01 </td><td>0.6245661</td></tr>\n",
       "\t<tr><td>DE       </td><td>  816.260</td><td>19335.27 </td><td>0.6520950</td></tr>\n",
       "\t<tr><td>AU       </td><td>  798.320</td><td>20133.59 </td><td>0.6790189</td></tr>\n",
       "\t<tr><td>SA       </td><td>  678.240</td><td>20811.83 </td><td>0.7018930</td></tr>\n",
       "\t<tr><td>CA       </td><td>  651.186</td><td>21463.02 </td><td>0.7238547</td></tr>\n",
       "\t<tr><td>FR       </td><td>  574.916</td><td>22037.93 </td><td>0.7432441</td></tr>\n",
       "\t<tr><td>IT       </td><td>  494.574</td><td>22532.51 </td><td>0.7599240</td></tr>\n",
       "\t<tr><td>TR       </td><td>  488.896</td><td>23021.40 </td><td>0.7764123</td></tr>\n",
       "\t<tr><td>PK       </td><td>  446.288</td><td>23467.69 </td><td>0.7914637</td></tr>\n",
       "</tbody>\n",
       "</table>\n"
      ],
      "text/latex": [
       "\\begin{tabular}{r|llll}\n",
       " countryCode & revenue & cumsum & cumsum\\_perc\\\\\n",
       "\\hline\n",
       "\t US        & 11342.418 & 11342.42  & 0.3825307\\\\\n",
       "\t GB        &  3232.084 & 14574.50  & 0.4915349\\\\\n",
       "\t IN        &  1670.990 & 16245.49  & 0.5478902\\\\\n",
       "\t BR        &  1325.352 & 17570.84  & 0.5925886\\\\\n",
       "\t ID        &   948.166 & 18519.01  & 0.6245661\\\\\n",
       "\t DE        &   816.260 & 19335.27  & 0.6520950\\\\\n",
       "\t AU        &   798.320 & 20133.59  & 0.6790189\\\\\n",
       "\t SA        &   678.240 & 20811.83  & 0.7018930\\\\\n",
       "\t CA        &   651.186 & 21463.02  & 0.7238547\\\\\n",
       "\t FR        &   574.916 & 22037.93  & 0.7432441\\\\\n",
       "\t IT        &   494.574 & 22532.51  & 0.7599240\\\\\n",
       "\t TR        &   488.896 & 23021.40  & 0.7764123\\\\\n",
       "\t PK        &   446.288 & 23467.69  & 0.7914637\\\\\n",
       "\\end{tabular}\n"
      ],
      "text/markdown": [
       "\n",
       "| countryCode | revenue | cumsum | cumsum_perc |\n",
       "|---|---|---|---|\n",
       "| US        | 11342.418 | 11342.42  | 0.3825307 |\n",
       "| GB        |  3232.084 | 14574.50  | 0.4915349 |\n",
       "| IN        |  1670.990 | 16245.49  | 0.5478902 |\n",
       "| BR        |  1325.352 | 17570.84  | 0.5925886 |\n",
       "| ID        |   948.166 | 18519.01  | 0.6245661 |\n",
       "| DE        |   816.260 | 19335.27  | 0.6520950 |\n",
       "| AU        |   798.320 | 20133.59  | 0.6790189 |\n",
       "| SA        |   678.240 | 20811.83  | 0.7018930 |\n",
       "| CA        |   651.186 | 21463.02  | 0.7238547 |\n",
       "| FR        |   574.916 | 22037.93  | 0.7432441 |\n",
       "| IT        |   494.574 | 22532.51  | 0.7599240 |\n",
       "| TR        |   488.896 | 23021.40  | 0.7764123 |\n",
       "| PK        |   446.288 | 23467.69  | 0.7914637 |\n",
       "\n"
      ],
      "text/plain": [
       "   countryCode revenue   cumsum   cumsum_perc\n",
       "1  US          11342.418 11342.42 0.3825307  \n",
       "2  GB           3232.084 14574.50 0.4915349  \n",
       "3  IN           1670.990 16245.49 0.5478902  \n",
       "4  BR           1325.352 17570.84 0.5925886  \n",
       "5  ID            948.166 18519.01 0.6245661  \n",
       "6  DE            816.260 19335.27 0.6520950  \n",
       "7  AU            798.320 20133.59 0.6790189  \n",
       "8  SA            678.240 20811.83 0.7018930  \n",
       "9  CA            651.186 21463.02 0.7238547  \n",
       "10 FR            574.916 22037.93 0.7432441  \n",
       "11 IT            494.574 22532.51 0.7599240  \n",
       "12 TR            488.896 23021.40 0.7764123  \n",
       "13 PK            446.288 23467.69 0.7914637  "
      ]
     },
     "metadata": {},
     "output_type": "display_data"
    },
    {
     "data": {
      "text/html": [
       "<table>\n",
       "<thead><tr><th scope=col>countryCode</th><th scope=col>abTestGroup</th><th scope=col>ARPDAU</th></tr></thead>\n",
       "<tbody>\n",
       "\t<tr><td>GB           </td><td>group_control</td><td>0.1009618    </td></tr>\n",
       "\t<tr><td>GB           </td><td>group_test   </td><td>0.1060468    </td></tr>\n",
       "\t<tr><td>US           </td><td>group_control</td><td>0.1262741    </td></tr>\n",
       "\t<tr><td>US           </td><td>group_test   </td><td>0.1224184    </td></tr>\n",
       "</tbody>\n",
       "</table>\n"
      ],
      "text/latex": [
       "\\begin{tabular}{r|lll}\n",
       " countryCode & abTestGroup & ARPDAU\\\\\n",
       "\\hline\n",
       "\t GB              & group\\_control & 0.1009618      \\\\\n",
       "\t GB              & group\\_test    & 0.1060468      \\\\\n",
       "\t US              & group\\_control & 0.1262741      \\\\\n",
       "\t US              & group\\_test    & 0.1224184      \\\\\n",
       "\\end{tabular}\n"
      ],
      "text/markdown": [
       "\n",
       "| countryCode | abTestGroup | ARPDAU |\n",
       "|---|---|---|\n",
       "| GB            | group_control | 0.1009618     |\n",
       "| GB            | group_test    | 0.1060468     |\n",
       "| US            | group_control | 0.1262741     |\n",
       "| US            | group_test    | 0.1224184     |\n",
       "\n"
      ],
      "text/plain": [
       "  countryCode abTestGroup   ARPDAU   \n",
       "1 GB          group_control 0.1009618\n",
       "2 GB          group_test    0.1060468\n",
       "3 US          group_control 0.1262741\n",
       "4 US          group_test    0.1224184"
      ]
     },
     "metadata": {},
     "output_type": "display_data"
    }
   ],
   "source": [
    "# How was our multi-market structure?\n",
    "# Which countries had the most impact in our revenues this week?\n",
    "\n",
    "sum(data_clean$cost)\n",
    "data_clean %>% \n",
    "  group_by(countryCode) %>%\n",
    "  summarize(revenue=sum(cost)) %>%\n",
    "  arrange(desc(revenue)) %>%\n",
    "  mutate(cumsum=cumsum(revenue)) %>%\n",
    "  mutate(cumsum_perc=cumsum/29651) %>%\n",
    "  filter(cumsum_perc<0.80)\n",
    "\n",
    "# It seems that US and GB generates nearly our 50% of global revenue alone.\n",
    "# Let's check if there was any interesting activitiy during the AB Test.\n",
    "\n",
    "data_clean %>%\n",
    "  group_by(dateActivity,abTestGroup,countryCode) %>%\n",
    "  summarize(revenue=sum(cost),daily_users=n_distinct(userId),rdau=sum(cost)/n_distinct(userId)) %>%\n",
    "  group_by(countryCode,abTestGroup) %>%\n",
    "  summarize(ARPDAU=mean(rdau)) %>%\n",
    "  filter(countryCode %in% c(\"US\",\"GB\"))\n",
    "\n",
    "# GB reflected better reaction to the test design, but that did not significantly effect the results as a whole. \n"
   ]
  },
  {
   "cell_type": "code",
   "execution_count": 16,
   "metadata": {},
   "outputs": [],
   "source": [
    "### Where to go from here? Questions that should be asked!\n",
    "\n",
    "# Any Confounding Variables during the test?\n",
    "# Any other major re-design on the game, during the test?\n",
    "# Any campaign started or finished during the test, special price etc.\n",
    "\n",
    "# A follow-up experiment: Since AB Testing is a continious loop, can we design a new experiment?"
   ]
  }
 ],
 "metadata": {
  "kernelspec": {
   "display_name": "R",
   "language": "R",
   "name": "ir"
  },
  "language_info": {
   "codemirror_mode": "r",
   "file_extension": ".r",
   "mimetype": "text/x-r-source",
   "name": "R",
   "pygments_lexer": "r",
   "version": "3.6.1"
  }
 },
 "nbformat": 4,
 "nbformat_minor": 4
}
